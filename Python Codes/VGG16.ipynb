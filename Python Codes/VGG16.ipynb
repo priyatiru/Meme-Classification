{
  "nbformat": 4,
  "nbformat_minor": 0,
  "metadata": {
    "colab": {
      "name": "VGG16.ipynb",
      "provenance": [],
      "collapsed_sections": [
        "XIbjXy9tw863"
      ]
    },
    "kernelspec": {
      "name": "python3",
      "display_name": "Python 3"
    },
    "language_info": {
      "name": "python"
    },
    "accelerator": "GPU"
  },
  "cells": [
    {
      "cell_type": "markdown",
      "metadata": {
        "id": "cg6_zQPBTEPm"
      },
      "source": [
        "#VGG16 image model"
      ]
    },
    {
      "cell_type": "code",
      "metadata": {
        "id": "RaRqvSUAfETD"
      },
      "source": [
        "'''\n",
        "data/\n",
        "  train(train_data)/\n",
        "    hateful/\n",
        "      01235.png\n",
        "      01247.png\n",
        "      ...\n",
        "    non-hateful/\n",
        "      01236.png\n",
        "      01245.png\n",
        "      ...\n",
        "  validation(dev_seen_data)/\n",
        "    hateful/\n",
        "      01456.png\n",
        "      01726.png\n",
        "      ...\n",
        "    non-hateful/\n",
        "      01268.png\n",
        "      01472.png\n",
        "      ...\n",
        "\n",
        "'''"
      ],
      "execution_count": null,
      "outputs": []
    },
    {
      "cell_type": "code",
      "metadata": {
        "id": "Q9OKEiQnTFe0"
      },
      "source": [
        "from keras.applications.vgg16 import VGG16, preprocess_input\n",
        "from keras.preprocessing.image import ImageDataGenerator, array_to_img\n",
        "from keras.models import Model, Sequential\n",
        "from keras.layers import Conv2D, MaxPooling2D, Activation, Dropout, Flatten, Dense\n",
        "from keras.callbacks import ModelCheckpoint, EarlyStopping\n",
        "from keras.optimizers import SGD\n",
        "from keras import backend as K\n",
        "import pandas as pd\n",
        "import numpy as np\n",
        "\n",
        "from keras.utils.vis_utils import plot_model\n",
        "from IPython.display import display\n",
        "import matplotlib.pyplot as plt"
      ],
      "execution_count": null,
      "outputs": []
    },
    {
      "cell_type": "code",
      "metadata": {
        "id": "sKb7GzJtfxUR"
      },
      "source": [
        "#image dimensions\n",
        "img_width, img_height = 224,224"
      ],
      "execution_count": null,
      "outputs": []
    },
    {
      "cell_type": "code",
      "metadata": {
        "id": "8AxE5wmXf9C2"
      },
      "source": [
        "train_data_dir = \"/content/drive/MyDrive/data/train_data\"\n",
        "validation_data_dir = \"/content/drive/MyDrive/data/dev_seen_data\"\n",
        "# nb_train_samples = 2000\n",
        "# nb_validation_samples = 100\n",
        "# epochs = 50\n",
        "batch_size = 16"
      ],
      "execution_count": null,
      "outputs": []
    },
    {
      "cell_type": "code",
      "metadata": {
        "id": "nxKrtblQgVz0"
      },
      "source": [
        "#image data is represented in three dim-array where first channel represents the colour channels:[channels][rows][columns]\n",
        "if K.image_data_format() == 'channels_first':\n",
        "  input_shape = (3, img_width, img_height)\n",
        "else:\n",
        "  input_shape = (img_width, img_height, 3)"
      ],
      "execution_count": null,
      "outputs": []
    },
    {
      "cell_type": "code",
      "metadata": {
        "id": "FqtQHgY9gpW5"
      },
      "source": [
        "#Wrapper for preprocess_input() to make it compatible to use with ImageDataGenerator's preprocessing_function\n",
        "def preprocess_vgg(x):\n",
        "  X = np.expand_dims(x, axis=0)\n",
        "  X = preprocess_input(X)\n",
        "  return X[0]"
      ],
      "execution_count": null,
      "outputs": []
    },
    {
      "cell_type": "code",
      "metadata": {
        "id": "roGcPSmXg5aX"
      },
      "source": [
        "#Intializing VGG16 with Imagenet weights\n",
        "vgg16 = VGG16(weights='imagenet')"
      ],
      "execution_count": null,
      "outputs": []
    },
    {
      "cell_type": "code",
      "metadata": {
        "id": "PTP-VSI2g-ir"
      },
      "source": [
        "x = vgg16.get_layer('fc2').output\n",
        "prediction = Dense(2, activation='softmax', name='predictions')(x)\n",
        "\n",
        "img_model = Model(inputs=vgg16.input, outputs=prediction)"
      ],
      "execution_count": null,
      "outputs": []
    },
    {
      "cell_type": "code",
      "metadata": {
        "id": "o5XmMYuGhVXC"
      },
      "source": [
        "#freezing all the layers except bottlenecj layer for fine tuning\n",
        "for layer in img_model.layers:\n",
        "  if layer.name in ['predictions']:\n",
        "    continue\n",
        "  layer.trainable = False"
      ],
      "execution_count": null,
      "outputs": []
    },
    {
      "cell_type": "code",
      "metadata": {
        "id": "Fhi-YpcphhkX"
      },
      "source": [
        "df = pd.DataFrame(([layer.name, layer.trainable] for layer in img_model.layers), columns=['layer','trainable'])"
      ],
      "execution_count": null,
      "outputs": []
    },
    {
      "cell_type": "code",
      "metadata": {
        "id": "0KSCc1qVh3UC"
      },
      "source": [
        "train_datagen = ImageDataGenerator(preprocessing_function=preprocess_vgg,\n",
        "                                   rotation_range=40,\n",
        "                                   width_shift_range=0.2,\n",
        "                                   height_shift_range=0.2,\n",
        "                                   shear_range=0.2,\n",
        "                                   zoom_range=0.2,\n",
        "                                   horizontal_flip=True,\n",
        "                                   fill_mode='nearest')\n",
        "train_generator = train_datagen.flow_from_directory(directory=train_data_dir,\n",
        "                                                    target_size=[img_width, img_height],\n",
        "                                                    batch_size=batch_size,\n",
        "                                                    class_mode='categorical')"
      ],
      "execution_count": null,
      "outputs": []
    },
    {
      "cell_type": "code",
      "metadata": {
        "id": "zdeht-C_jDts"
      },
      "source": [
        "validation_datagen = ImageDataGenerator(preprocessing_function=preprocess_vgg)\n",
        "validation_generator = validation_datagen.flow_from_directory(directory=validation_data_dir,\n",
        "                                                              target_size=[img_width, img_height],\n",
        "                                                              batch_size=batch_size,\n",
        "                                                              class_mode='categorical')"
      ],
      "execution_count": null,
      "outputs": []
    },
    {
      "cell_type": "code",
      "metadata": {
        "id": "ELMokrpKjQAW"
      },
      "source": [
        "#compile SGD optimizer with small learning rate\n",
        "sgd = SGD(lr=1e-4, momentum=0.9)\n",
        "img_model.compile(optimizer=sgd, loss='categorical_crossentropy', metrics=['accuracy'])"
      ],
      "execution_count": null,
      "outputs": []
    },
    {
      "cell_type": "code",
      "metadata": {
        "id": "uyMLjio_bjn1"
      },
      "source": [
        "plot_model(img_model, to_file='/content/VGG16_img_model.png', show_shapes=True, show_layer_names=True)"
      ],
      "execution_count": null,
      "outputs": []
    },
    {
      "cell_type": "code",
      "metadata": {
        "id": "6Itv27s3k_lG"
      },
      "source": [
        "history = img_model.fit_generator(\n",
        "    train_generator,\n",
        "    steps_per_epoch=2000 // batch_size,\n",
        "    epochs=200,\n",
        "    validation_data = validation_generator,\n",
        "    validation_steps=100 // batch_size\n",
        ")"
      ],
      "execution_count": null,
      "outputs": []
    },
    {
      "cell_type": "code",
      "metadata": {
        "id": "Cwzt6PE1lkFH"
      },
      "source": [
        "img_model.save_weights('/content/drive/MyDrive/data/vgg16_hateful_nonhateful_dense2.h5')"
      ],
      "execution_count": null,
      "outputs": []
    },
    {
      "cell_type": "code",
      "metadata": {
        "id": "cbu37Z1P6n5S"
      },
      "source": [
        "model_json_final = img_model.to_json()\n",
        "with open(\"/content/drive/MyDrive/data/vgg16_hateful_nonhateful_dense2.json\", \"w\") as json_file:\n",
        "  json_file.write(model_json_final)"
      ],
      "execution_count": null,
      "outputs": []
    },
    {
      "cell_type": "code",
      "metadata": {
        "id": "hndjgKNUVh2l"
      },
      "source": [
        "plt.plot(history.history['accuracy'], label='train accuracy')\n",
        "plt.plot(history.history['val_accuracy'], label='validation accuracy')\n",
        "plt.title('Training history')\n",
        "plt.ylabel('Accuracy')\n",
        "plt.xlabel('Epoch')\n",
        "plt.legend()\n",
        "plt.ylim([0, 1]);"
      ],
      "execution_count": null,
      "outputs": []
    },
    {
      "cell_type": "code",
      "metadata": {
        "id": "S0-OG_VS4MyE"
      },
      "source": [
        "test_data_dir = \"/content/drive/MyDrive/data/dev_unseen_data\"\n",
        "\n",
        "test_datagen = ImageDataGenerator(preprocessing_function=preprocess_vgg)\n",
        "test_generator = test_datagen.flow_from_directory(directory=test_data_dir,\n",
        "                                                              target_size=[img_width, img_height],\n",
        "                                                              batch_size=batch_size,\n",
        "                                                              class_mode='categorical')"
      ],
      "execution_count": null,
      "outputs": []
    },
    {
      "cell_type": "code",
      "metadata": {
        "id": "e7tHeRy86BPa"
      },
      "source": [
        "#Confusion Matrix and Classification Report\n",
        "Y_pred = img_model.predict(test_generator)\n",
        "y_pred = np.argmax(Y_pred, axis=1)\n",
        "print('Confusion Matrix')\n",
        "print(confusion_matrix(test_generator.classes, y_pred))\n",
        "print('Classification Report')\n",
        "target_names = ['Non-Offensive', 'Offensive']\n",
        "print(classification_report(test_generator.classes, y_pred, target_names=target_names))"
      ],
      "execution_count": null,
      "outputs": []
    },
    {
      "cell_type": "code",
      "metadata": {
        "id": "kPya03LRi-Fg"
      },
      "source": [
        ""
      ],
      "execution_count": null,
      "outputs": []
    }
  ]
}