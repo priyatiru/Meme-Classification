{
  "nbformat": 4,
  "nbformat_minor": 0,
  "metadata": {
    "colab": {
      "name": "Image_file_sorting",
      "provenance": [],
      "collapsed_sections": []
    },
    "kernelspec": {
      "display_name": "Python 3",
      "name": "python3"
    }
  },
  "cells": [
    {
      "cell_type": "code",
      "metadata": {
        "id": "AGrxDeDR9SqA"
      },
      "source": [
        "from pathlib import Path\n",
        "import os\n",
        "import pandas as pd\n",
        "import shutil"
      ],
      "execution_count": null,
      "outputs": []
    },
    {
      "cell_type": "code",
      "metadata": {
        "id": "rk9a-3ciflaa"
      },
      "source": [
        "!unzip /content/drive/MyDrive/data/img.zip -d /content/img"
      ],
      "execution_count": null,
      "outputs": []
    },
    {
      "cell_type": "code",
      "metadata": {
        "id": "pZE4S99gXvaP"
      },
      "source": [
        "df = pd.read_json(\"/content/drive/MyDrive/data/dev_unseen.jsonl\", lines=True)"
      ],
      "execution_count": null,
      "outputs": []
    },
    {
      "cell_type": "code",
      "metadata": {
        "id": "79edqc6cYAGZ"
      },
      "source": [
        "df.head()"
      ],
      "execution_count": null,
      "outputs": []
    },
    {
      "cell_type": "code",
      "metadata": {
        "id": "87kgQYXsYRAS"
      },
      "source": [
        "path = \"/content/drive/MyDrive/data/dev_unseen_data/non-hateful\"\n",
        "if not os.path.exists(path):\n",
        "  os.makedirs(path)"
      ],
      "execution_count": null,
      "outputs": []
    },
    {
      "cell_type": "code",
      "metadata": {
        "id": "AekMJrj8b9fJ"
      },
      "source": [
        "path2 = \"/content/drive/MyDrive/data/dev_unseen_data/hateful\"\n",
        "if not os.path.exists(path2):\n",
        "  os.makedirs(path2)"
      ],
      "execution_count": null,
      "outputs": []
    },
    {
      "cell_type": "code",
      "metadata": {
        "id": "DZepMbvflv0S"
      },
      "source": [
        "df.shape"
      ],
      "execution_count": null,
      "outputs": []
    },
    {
      "cell_type": "code",
      "metadata": {
        "id": "f6IvFyXmaQbH"
      },
      "source": [
        "for i in range(df.shape[0]):\n",
        "  my_file = os.path.join(\"/content\",df['img'][i])\n",
        "  if os.path.isfile(my_file):\n",
        "    if df['label'][i]==0:\n",
        "      print(\"the file\", df['img'][i],\"is non-hateful\")\n",
        "      shutil.copy2(my_file, path)\n",
        "    else:\n",
        "      print('the file',df['img'][i],'is hateful')\n",
        "      shutil.copy2(my_file, path2)\n",
        "  else:\n",
        "    print(\"Doesn't exists\")"
      ],
      "execution_count": null,
      "outputs": []
    },
    {
      "cell_type": "code",
      "metadata": {
        "id": "xdOr7H34g4md"
      },
      "source": [
        "dir_count = 0\n",
        "file_count = 0\n",
        "for _, dirs, files in os.walk(path):\n",
        "    dir_count += len(dirs)\n",
        "    file_count += len(files)\n",
        "\n",
        "print(file_count)"
      ],
      "execution_count": null,
      "outputs": []
    },
    {
      "cell_type": "code",
      "metadata": {
        "id": "a-ECh7_IdawL"
      },
      "source": [
        ""
      ],
      "execution_count": null,
      "outputs": []
    }
  ]
}